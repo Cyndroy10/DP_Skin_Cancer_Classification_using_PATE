{
  "nbformat": 4,
  "nbformat_minor": 0,
  "metadata": {
    "colab": {
      "name": "Normal Skin_Cancer_classification.ipynb",
      "provenance": [],
      "mount_file_id": "1U__IQ_k9UWsfvaNs_bZUy2eHOIBJx92X",
      "authorship_tag": "ABX9TyOu0RMlmnglXPUZ/hjvPctm",
      "include_colab_link": true
    },
    "kernelspec": {
      "name": "python3",
      "display_name": "Python 3"
    },
    "accelerator": "GPU"
  },
  "cells": [
    {
      "cell_type": "markdown",
      "metadata": {
        "id": "view-in-github",
        "colab_type": "text"
      },
      "source": [
        "<a href=\"https://colab.research.google.com/github/cyndroy/DP_Skin_Cancer_Classification_using_PATE/blob/master/Normal_Skin_Cancer_classification.ipynb\" target=\"_parent\"><img src=\"https://colab.research.google.com/assets/colab-badge.svg\" alt=\"Open In Colab\"/></a>"
      ]
    },
    {
      "cell_type": "code",
      "metadata": {
        "id": "pSHIE9RXCmDp"
      },
      "source": [
        "import numpy as np\n",
        "from PIL import Image\n",
        "import random\n",
        "import torch\n",
        "from torch.utils.data import Dataset, DataLoader\n",
        "from torchvision import datasets, transforms, models\n",
        "from torch import nn, optim\n",
        "import torch.nn.functional as F\n",
        "import time, os, random\n",
        "import tensorflow as tf\n",
        "from sklearn.metrics import confusion_matrix\n",
        "import matplotlib.pyplot as plt\n",
        "\n",
        "\n",
        "# we'll train on GPU if it is available\n",
        "device = torch.device(\"cuda\" if torch.cuda.is_available() else \"cpu\")"
      ],
      "execution_count": 15,
      "outputs": []
    },
    {
      "cell_type": "code",
      "metadata": {
        "id": "ODTkqKVQEih7",
        "outputId": "4ad12deb-da72-46c7-efff-cb9c0fd96cf9",
        "colab": {
          "base_uri": "https://localhost:8080/",
          "height": 34
        }
      },
      "source": [
        "%cd '/content/drive/My Drive/Colab Notebooks/CancerDataset'"
      ],
      "execution_count": 7,
      "outputs": [
        {
          "output_type": "stream",
          "text": [
            "/content/drive/My Drive/Colab Notebooks/CancerDataset\n"
          ],
          "name": "stdout"
        }
      ]
    },
    {
      "cell_type": "code",
      "metadata": {
        "id": "dDu-SgVwvJT4"
      },
      "source": [
        "class SkinCancerDataset(Dataset):\n",
        "    def __init__(self, benign_path, malignant_path, transform=None):\n",
        "\n",
        "        benign_list = [[os.path.join(benign_path, filename),'0'] for filename in os.listdir(benign_path)] \n",
        "        malignant_list = [[os.path.join(malignant_path, filename),'1'] for filename in os.listdir(malignant_path)]\n",
        "       \n",
        "        self.img_list = []\n",
        "        self.img_list = benign_list + malignant_list\n",
        "        random.shuffle(self.img_list)\n",
        "\n",
        "        self.transform = transform\n",
        "      \n",
        "\n",
        "    def __len__(self):\n",
        "        return len(self.img_list)   \n",
        "\n",
        "    def __getitem__(self, idx):\n",
        "        if torch.is_tensor(idx):\n",
        "            idx = idx.tolist()\n",
        "\n",
        "        img_path = self.img_list[idx][0]\n",
        "        image = Image.open(img_path).convert('RGB')\n",
        "\n",
        "        if self.transform:\n",
        "            image = self.transform(image)\n",
        "\n",
        "        label = int(self.img_list[idx][1])\n",
        "        return image, label"
      ],
      "execution_count": 8,
      "outputs": []
    },
    {
      "cell_type": "code",
      "metadata": {
        "id": "5XeJAV4p13uK",
        "outputId": "58a8aac5-b091-4519-e7c5-f6a26e468f8c",
        "colab": {
          "base_uri": "https://localhost:8080/",
          "height": 34
        }
      },
      "source": [
        "data_transforms = transforms.Compose([\n",
        "    # transforms.RandomResizedCrop((224),scale=(0.5,1.0)),\n",
        "    transforms.RandomHorizontalFlip(),\n",
        "    transforms.ToTensor(),\n",
        "    transforms.Normalize(mean=[0.485, 0.456, 0.406], std=[0.229, 0.224, 0.225])\n",
        "])\n",
        "\n",
        "testset = SkinCancerDataset(benign_path = './data/test/benign',\n",
        "                             malignant_path = './data/test/malignant' , transform = data_transforms)\n",
        "\n",
        "validset = SkinCancerDataset(benign_path = './data/valid/benign',\n",
        "                             malignant_path = './data/valid/malignant', transform = data_transforms)\n",
        "\n",
        "len(testset),len(validset)"
      ],
      "execution_count": 9,
      "outputs": [
        {
          "output_type": "execute_result",
          "data": {
            "text/plain": [
              "(584, 146)"
            ]
          },
          "metadata": {
            "tags": []
          },
          "execution_count": 9
        }
      ]
    },
    {
      "cell_type": "code",
      "metadata": {
        "id": "iQNIxDbHSpTN",
        "outputId": "cfc75c73-5faa-468a-bfa2-8bb2398ae048",
        "colab": {
          "base_uri": "https://localhost:8080/",
          "height": 34
        }
      },
      "source": [
        "#  # STUDENT\n",
        "# split into train and validation set\n",
        "batch_size = 20\n",
        "valid_size = int(len(testset) * 0.2)\n",
        "train_size = len(testset) - valid_size\n",
        "student_train_subset, student_valid_subset = torch.utils.data.random_split(testset, [train_size,valid_size])\n",
        "\n",
        "#create data loaders\n",
        "student_train_loader = DataLoader(student_train_subset, batch_size=batch_size, shuffle=False, num_workers=1)\n",
        "student_valid_loader = DataLoader(student_valid_subset, batch_size=batch_size, shuffle=False, num_workers=1)\n",
        "\n",
        "len(student_train_loader), len(student_valid_loader)"
      ],
      "execution_count": 17,
      "outputs": [
        {
          "output_type": "execute_result",
          "data": {
            "text/plain": [
              "(24, 6)"
            ]
          },
          "metadata": {
            "tags": []
          },
          "execution_count": 17
        }
      ]
    },
    {
      "cell_type": "code",
      "metadata": {
        "id": "Bs-2Mik_eO-0"
      },
      "source": [
        "\n",
        "class SimpleCNN(torch.nn.Module):\n",
        "    def __init__(self):\n",
        "        super(SimpleCNN, self).__init__() # b, 3, 32, 32\n",
        "        layer1 = torch.nn.Sequential()\n",
        "        layer1.add_module('conv1', torch.nn.Conv2d(3, 32, 3, 1, padding=1))\n",
        "        layer1.add_module('pool1', torch.nn.MaxPool2d(2, 2))\n",
        "        layer1.add_module('relu1', torch.nn.ReLU(True))\n",
        "        layer1.add_module('drop1',torch.nn.Dropout(0.25)) \n",
        "        layer1.add_module('conv2', torch.nn.Conv2d(32,64, 3, 1, padding=1))\n",
        "        layer1.add_module('pool2', torch.nn.MaxPool2d(2, 2)) \n",
        "        layer1.add_module('relu2', torch.nn.ReLU(True))\n",
        "        layer1.add_module('drop2',torch.nn.Dropout(0.25))\n",
        "        \n",
        "        self.layer1 = layer1\n",
        "        layer4 = torch.nn.Sequential()\n",
        "        layer4.add_module('fc1', torch.nn.Linear(200704, 2))   \n",
        "           \n",
        "        self.layer4 = layer4\n",
        "\n",
        "    def forward(self, x):\n",
        "        conv1 = self.layer1(x)\n",
        "        fc_input = conv1.view(conv1.size(0), -1)\n",
        "        fc_out = self.layer4(fc_input)\n",
        "\n",
        "        return fc_out"
      ],
      "execution_count": 11,
      "outputs": []
    },
    {
      "cell_type": "code",
      "metadata": {
        "id": "-mpaiOxzhV8c"
      },
      "source": [
        "def train(n_epochs, trainloader, validloader, model, optimizer, criterion, use_cuda, save_path= None, is_not_teacher=False):\n",
        "    \"\"\"returns trained model\"\"\"\n",
        "    # # initialize tracker for minimum validation loss\n",
        "    valid_loss_min = np.Inf\n",
        "    train_lossL = []\n",
        "    valid_lossL = []\n",
        "    train_accL = []\n",
        "    valid_accL = []\n",
        "\n",
        "    for epoch in range(1, n_epochs+1):\n",
        "        # initialize variables to monitor training and validation loss\n",
        "        train_loss = 0.0\n",
        "        valid_loss = 0.0\n",
        "        train_correct = 0.0\n",
        "        train_total = 0.0\n",
        "        valid_correct =0.0\n",
        "        valid_total = 0.0\n",
        "        # train the model #\n",
        "        model.train()\n",
        "        for batch_idx, (data, target) in enumerate(trainloader):\n",
        "            # move to GPU\n",
        "            if use_cuda:\n",
        "                data, target = data.cuda(), target.cuda()\n",
        "            # initialize weights to zero\n",
        "            optimizer.zero_grad()\n",
        "            output = model(data)\n",
        "            loss = criterion(output, target)\n",
        "            loss.backward()\n",
        "            optimizer.step()    \n",
        "            train_loss = train_loss + ((1 / (batch_idx + 1)) * (loss.data - train_loss))\n",
        "\n",
        "\n",
        "            # convert output probabilities to predicted class\n",
        "            pred = output.data.max(1, keepdim=True)[1]\n",
        "            # compare predictions to true label\n",
        "            train_correct += np.sum(np.squeeze(pred.eq(target.data.view_as(pred))).cpu().numpy())\n",
        "            train_total += data.size(0)\n",
        "            train_acc = 100. * train_correct / train_total\n",
        "        temp_loss = train_loss\n",
        "        train_lossL.append(temp_loss.cpu().numpy())  \n",
        "        \n",
        "        train_accL.append(train_acc)\n",
        "\n",
        "        # validate the model\n",
        "        model.eval()\n",
        "        for batch_idx, (data, target) in enumerate(validloader):\n",
        "            # move to GPU\n",
        "            if use_cuda:\n",
        "                data, target = data.cuda(), target.cuda()\n",
        "            output = model(data)\n",
        "            loss = criterion(output, target)\n",
        "            valid_loss = valid_loss + ((1 / (batch_idx + 1)) * (loss.data - valid_loss))\n",
        "\n",
        "            pred = output.data.max(1, keepdim=True)[1]\n",
        "            # compare predictions to true label\n",
        "            valid_correct += np.sum(np.squeeze(pred.eq(target.data.view_as(pred))).cpu().numpy())\n",
        "            valid_total += data.size(0)\n",
        "            valid_acc = 100. * valid_correct / valid_total\n",
        "        temp_loss = valid_loss\n",
        "        valid_lossL.append(temp_loss.cpu().numpy())\n",
        "\n",
        "        valid_accL.append(valid_acc) \n",
        "\n",
        "        # print training/validation statistics\n",
        "        print('Epoch: {} \\n\\tTrain Loss: {:.6f} \\tTrain Acc: {:.6f} \\n\\tValid Loss: {:.6f} \\tValid Acc: {:.6f}'.format(\n",
        "            epoch,train_loss,train_acc,valid_loss,valid_acc ))\n",
        "\n",
        "        ## save the student model if validation loss has decreased\n",
        "        if is_not_teacher:\n",
        "          if valid_loss < valid_loss_min:\n",
        "              torch.save(model.state_dict(), save_path)\n",
        "              print('\\tValidation loss decreased ({:.6f} --> {:.6f}).  Saving model ...'.format(\n",
        "              valid_loss_min,\n",
        "              valid_loss))\n",
        "              valid_loss_min = valid_loss\n",
        "\n",
        "    \n",
        "    epochs = range(1,n_epochs+1)\n",
        "    plt.plot(epochs, train_lossL, 'g', label='Training loss')\n",
        "    plt.plot(epochs, valid_lossL, 'b', label='validation loss')\n",
        "    plt.title('Training and Validation loss')\n",
        "    plt.xlabel('Epochs')\n",
        "    plt.ylabel('Loss')\n",
        "    plt.legend()\n",
        "    plt.show()  \n",
        "            \n",
        "    epochs = range(1,n_epochs+1)\n",
        "    plt.plot(epochs, train_accL, 'g', label='Training acc')\n",
        "    plt.plot(epochs, valid_accL, 'b', label='validation acc')\n",
        "    plt.title('Training and Validation loss')\n",
        "    plt.xlabel('Epochs')\n",
        "    plt.ylabel('Accuracy')\n",
        "    plt.legend()\n",
        "    plt.show()       \n",
        "\n",
        "    return model"
      ],
      "execution_count": 12,
      "outputs": []
    },
    {
      "cell_type": "code",
      "metadata": {
        "id": "aeWED-aqhbdb"
      },
      "source": [
        "# instantiate model and move it to GPU if available\n",
        "model = SimpleCNN()\n",
        "model.to(device)\n",
        "\n",
        "#define hyperparameters\n",
        "criterion = nn.CrossEntropyLoss()\n",
        "optimizer = optim.Adam(model.parameters() , lr=0.001)\n",
        "epochs = 13"
      ],
      "execution_count": 18,
      "outputs": []
    },
    {
      "cell_type": "code",
      "metadata": {
        "id": "3EEF3paIkoJG",
        "outputId": "36d74b20-4cb0-40a7-8ab2-d7710d1ed010",
        "colab": {
          "base_uri": "https://localhost:8080/",
          "height": 1000
        }
      },
      "source": [
        "# Normal DL Training\n",
        "epochs = 10\n",
        "normal_model = train(epochs, student_train_loader, student_valid_loader, model, optimizer, criterion, True, save_path='./models/normal.pth.tar', is_not_teacher=True)\n"
      ],
      "execution_count": 19,
      "outputs": [
        {
          "output_type": "stream",
          "text": [
            "Epoch: 1 \n",
            "\tTrain Loss: 3.399562 \tTrain Acc: 54.059829 \n",
            "\tValid Loss: 0.680660 \tValid Acc: 63.793103\n",
            "\tValidation loss decreased (inf --> 0.680660).  Saving model ...\n",
            "Epoch: 2 \n",
            "\tTrain Loss: 0.625579 \tTrain Acc: 66.025641 \n",
            "\tValid Loss: 0.593240 \tValid Acc: 62.931034\n",
            "\tValidation loss decreased (0.680660 --> 0.593240).  Saving model ...\n",
            "Epoch: 3 \n",
            "\tTrain Loss: 0.539613 \tTrain Acc: 70.085470 \n",
            "\tValid Loss: 0.616555 \tValid Acc: 68.965517\n",
            "Epoch: 4 \n",
            "\tTrain Loss: 0.522471 \tTrain Acc: 71.794872 \n",
            "\tValid Loss: 0.536724 \tValid Acc: 76.724138\n",
            "\tValidation loss decreased (0.593240 --> 0.536724).  Saving model ...\n",
            "Epoch: 5 \n",
            "\tTrain Loss: 0.463237 \tTrain Acc: 79.059829 \n",
            "\tValid Loss: 0.526202 \tValid Acc: 77.586207\n",
            "\tValidation loss decreased (0.536724 --> 0.526202).  Saving model ...\n",
            "Epoch: 6 \n",
            "\tTrain Loss: 0.456130 \tTrain Acc: 80.128205 \n",
            "\tValid Loss: 0.463632 \tValid Acc: 76.724138\n",
            "\tValidation loss decreased (0.526202 --> 0.463632).  Saving model ...\n",
            "Epoch: 7 \n",
            "\tTrain Loss: 0.413936 \tTrain Acc: 79.273504 \n",
            "\tValid Loss: 0.455739 \tValid Acc: 75.000000\n",
            "\tValidation loss decreased (0.463632 --> 0.455739).  Saving model ...\n",
            "Epoch: 8 \n",
            "\tTrain Loss: 0.395793 \tTrain Acc: 79.914530 \n",
            "\tValid Loss: 0.459264 \tValid Acc: 80.172414\n",
            "Epoch: 9 \n",
            "\tTrain Loss: 0.397326 \tTrain Acc: 79.700855 \n",
            "\tValid Loss: 0.488441 \tValid Acc: 75.000000\n",
            "Epoch: 10 \n",
            "\tTrain Loss: 0.357403 \tTrain Acc: 85.042735 \n",
            "\tValid Loss: 0.444161 \tValid Acc: 79.310345\n",
            "\tValidation loss decreased (0.455739 --> 0.444161).  Saving model ...\n"
          ],
          "name": "stdout"
        },
        {
          "output_type": "display_data",
          "data": {
            "image/png": "[encoded data removed]",
            "text/plain": [
              "<Figure size 432x288 with 1 Axes>"
            ]
          },
          "metadata": {
            "tags": [],
            "needs_background": "light"
          }
        },
        {
          "output_type": "display_data",
          "data": {
            "image/png": "[encoded data removed]",
            "text/plain": [
              "<Figure size 432x288 with 1 Axes>"
            ]
          },
          "metadata": {
            "tags": [],
            "needs_background": "light"
          }
        }
      ]
    },
    {
      "cell_type": "code",
      "metadata": {
        "id": "L_4NGHtvkqVz",
        "outputId": "0bf0f68f-8209-4244-e9ef-ca39a22881e1",
        "colab": {
          "base_uri": "https://localhost:8080/",
          "height": 34
        }
      },
      "source": [
        "# Create a dataloader for the test Dataset\n",
        "batch_size=16\n",
        "print(len(validset))\n",
        "dataloader = DataLoader(validset, batch_size=batch_size, shuffle=False)"
      ],
      "execution_count": 21,
      "outputs": [
        {
          "output_type": "stream",
          "text": [
            "146\n"
          ],
          "name": "stdout"
        }
      ]
    },
    {
      "cell_type": "code",
      "metadata": {
        "id": "y67s75bnksam",
        "outputId": "4a61315c-df54-4c5e-b09d-b39faa7e72d8",
        "colab": {
          "base_uri": "https://localhost:8080/",
          "height": 170
        }
      },
      "source": [
        "# We set a seed for the dataset to prevent it from producing different values every time it is run\n",
        "seed = 3\n",
        "random.seed(seed)\n",
        "np.random.seed(seed)\n",
        "torch.manual_seed(seed)\n",
        "torch.backends.cudnn.deterministic = True\n",
        "torch.backends.cudnn.benchmark = False\n",
        "\n",
        "\n",
        "def test(dataloader, model, criterion, use_cuda):\n",
        "\n",
        "    # monitor test loss and accuracy\n",
        "    test_loss = 0.\n",
        "    correct = 0.\n",
        "    total = 0.\n",
        "    Y_true = []\n",
        "    Y_pred = []\n",
        "    \n",
        "    model.eval()\n",
        "    for batch_idx, (data, target) in enumerate(dataloader):\n",
        "        # move to GPU\n",
        "        if use_cuda:\n",
        "            data, target = data.cuda(), target.cuda()\n",
        "\n",
        "        # forward pass: compute predicted outputs by passing inputs to the model\n",
        "        output = model(data)\n",
        "\n",
        "        # calculate the loss\n",
        "        loss = criterion(output, target)\n",
        "\n",
        "        # update average test loss\n",
        "        test_loss = test_loss + ((1 / (batch_idx + 1)) * (loss.data - test_loss))\n",
        "        \n",
        "        # convert output probabilities to predicted class\n",
        "        pred = output.data.max(1, keepdim=True)[1]\n",
        "        \n",
        "        temp_pred = pred \n",
        "        \n",
        "        Y_pred+=(temp_pred.cpu().numpy().transpose().tolist())\n",
        "        # print(temp_pred.cpu().numpy().transpose())\n",
        "        # compare predictions to true label\n",
        "        correct += np.sum(np.squeeze(pred.eq(target.data.view_as(pred))).cpu().numpy())\n",
        "        total += data.size(0)\n",
        "\n",
        "    print('\\tTest Loss: {:.6f}'.format(test_loss))\n",
        "    print('\\tTest Accuracy: %2d%% (%2d/%2d)' % (\n",
        "        100. * correct / total, correct, total))\n",
        "    Y_pred = sum(Y_pred,[])\n",
        "    \n",
        "    Y_true = [int(dataloader.dataset.img_list[i][1]) for i in range(len(dataloader.dataset.img_list)) ]\n",
        "    print(\"CONFUSION MATRIX:\\n\")\n",
        "    print(confusion_matrix(Y_true,Y_pred))\n",
        "\n",
        "# call test function\n",
        "print(\"\\n=======================\\nNormal Model\")\n",
        "test(dataloader, normal_model, criterion, True)\n"
      ],
      "execution_count": 22,
      "outputs": [
        {
          "output_type": "stream",
          "text": [
            "\n",
            "=======================\n",
            "Normal Model\n",
            "\tTest Loss: 0.398668\n",
            "\tTest Accuracy: 80% (117/146)\n",
            "CONFUSION MATRIX:\n",
            "\n",
            "[[62 18]\n",
            " [11 55]]\n"
          ],
          "name": "stdout"
        }
      ]
    }
  ]
}